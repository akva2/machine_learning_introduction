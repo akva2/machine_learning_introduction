{
 "cells": [
  {
   "cell_type": "code",
   "execution_count": 38,
   "metadata": {
    "collapsed": false,
    "slideshow": {
     "slide_type": "skip"
    }
   },
   "outputs": [
    {
     "data": {
      "text/html": [
       "<style>div.prompt {display:none}, .rise-enabled{min-width:100% !important;}</style>"
      ],
      "text/plain": [
       "<IPython.core.display.HTML object>"
      ]
     },
     "execution_count": 38,
     "metadata": {},
     "output_type": "execute_result"
    }
   ],
   "source": [
    "from preamble import *\n",
    "HTML('''<style>div.prompt {display:none}, .rise-enabled{min-width:100% !important;}</style>''') # Cleaner presentation"
   ]
  },
  {
   "cell_type": "markdown",
   "metadata": {
    "nbpresent": {
     "id": "365ab75b-fb74-4fc0-9efb-ea51b2c208e6"
    },
    "slideshow": {
     "slide_type": "slide"
    }
   },
   "source": [
    "# OpenML in Python \n",
    "OpenML is an online collaboration platform for machine learning. It allows you to share and reuse machine learning datasets, algorithms, models, and experiments. The openml Python package allows you to do all of this directly from Python scripts, and can be used together with machine learning libraries such as scikit-learn to easily run large-scale machine learning experiments, or to collaborate with others in real time online."
   ]
  },
  {
   "cell_type": "markdown",
   "metadata": {
    "nbpresent": {
     "id": "22990c96-6359-4864-bfc4-eb4c3c5a1ec1"
    },
    "slideshow": {
     "slide_type": "slide"
    }
   },
   "source": [
    "## Authentication\n",
    "* Create an OpenML account (free) on http://www.openml.org. \n",
    "* After logging in, open your account page (click your avatar on the top right)\n",
    "* Open 'Account Settings', then 'API authentication' to find your API key.\n",
    "\n",
    "There are two ways to authenticate:  \n",
    "* Create a plain text file `~/.openml/config` with the line 'apikey=MYKEY', replacing MYKEY with your API key.\n",
    "* Run the code below, replacing 'MYKEY' with your API key."
   ]
  },
  {
   "cell_type": "code",
   "execution_count": 41,
   "metadata": {
    "collapsed": false,
    "nbpresent": {
     "id": "c6d14fe7-bdc6-45f4-bae3-17e0e612b9d4"
    },
    "slideshow": {
     "slide_type": "fragment"
    }
   },
   "outputs": [],
   "source": [
    "# Run this to authenticate.  Not needed if you have stored your API key locally\n",
    "# or when you launched this notebook from the OpenML website.\n",
    "# !!! Never share scripts that contain your API key.\n",
    "import openml\n",
    "openml.config.apikey = os.environ.get('OPENMLKEY','MYKEY') "
   ]
  },
  {
   "cell_type": "markdown",
   "metadata": {
    "nbpresent": {
     "id": "e4f0afda-8f78-4162-b196-b12399a65a5a"
    },
    "slideshow": {
     "slide_type": "slide"
    }
   },
   "source": [
    "# Data sets\n",
    "We can list, select, and download all OpenML datasets"
   ]
  },
  {
   "cell_type": "markdown",
   "metadata": {
    "slideshow": {
     "slide_type": "subslide"
    }
   },
   "source": [
    "### List datasets"
   ]
  },
  {
   "cell_type": "code",
   "execution_count": null,
   "metadata": {
    "collapsed": true,
    "slideshow": {
     "slide_type": "-"
    }
   },
   "outputs": [],
   "source": [
    "from openml import datasets, tasks, runs"
   ]
  },
  {
   "cell_type": "code",
   "execution_count": 62,
   "metadata": {
    "collapsed": false,
    "nbpresent": {
     "id": "1f22460f-b6da-4e90-9437-336b84527224"
    }
   },
   "outputs": [
    {
     "name": "stdout",
     "output_type": "stream",
     "text": [
      "First 10 of 19492 datasets...\n"
     ]
    },
    {
     "data": {
      "text/html": [
       "<div>\n",
       "<table border=\"1\" class=\"dataframe\">\n",
       "  <thead>\n",
       "    <tr style=\"text-align: right;\">\n",
       "      <th></th>\n",
       "      <th>did</th>\n",
       "      <th>name</th>\n",
       "      <th>NumberOfInstances</th>\n",
       "      <th>NumberOfFeatures</th>\n",
       "      <th>NumberOfClasses</th>\n",
       "    </tr>\n",
       "  </thead>\n",
       "  <tbody>\n",
       "    <tr>\n",
       "      <th>1</th>\n",
       "      <td>1</td>\n",
       "      <td>anneal</td>\n",
       "      <td>898</td>\n",
       "      <td>39</td>\n",
       "      <td>6</td>\n",
       "    </tr>\n",
       "    <tr>\n",
       "      <th>2</th>\n",
       "      <td>2</td>\n",
       "      <td>anneal</td>\n",
       "      <td>898</td>\n",
       "      <td>39</td>\n",
       "      <td>6</td>\n",
       "    </tr>\n",
       "    <tr>\n",
       "      <th>3</th>\n",
       "      <td>3</td>\n",
       "      <td>kr-vs-kp</td>\n",
       "      <td>3196</td>\n",
       "      <td>37</td>\n",
       "      <td>2</td>\n",
       "    </tr>\n",
       "    <tr>\n",
       "      <th>4</th>\n",
       "      <td>4</td>\n",
       "      <td>labor</td>\n",
       "      <td>57</td>\n",
       "      <td>17</td>\n",
       "      <td>2</td>\n",
       "    </tr>\n",
       "    <tr>\n",
       "      <th>5</th>\n",
       "      <td>5</td>\n",
       "      <td>arrhythmia</td>\n",
       "      <td>452</td>\n",
       "      <td>280</td>\n",
       "      <td>16</td>\n",
       "    </tr>\n",
       "    <tr>\n",
       "      <th>6</th>\n",
       "      <td>6</td>\n",
       "      <td>letter</td>\n",
       "      <td>20000</td>\n",
       "      <td>17</td>\n",
       "      <td>26</td>\n",
       "    </tr>\n",
       "    <tr>\n",
       "      <th>7</th>\n",
       "      <td>7</td>\n",
       "      <td>audiology</td>\n",
       "      <td>226</td>\n",
       "      <td>70</td>\n",
       "      <td>24</td>\n",
       "    </tr>\n",
       "    <tr>\n",
       "      <th>8</th>\n",
       "      <td>8</td>\n",
       "      <td>liver-disorders</td>\n",
       "      <td>345</td>\n",
       "      <td>7</td>\n",
       "      <td>-1</td>\n",
       "    </tr>\n",
       "    <tr>\n",
       "      <th>9</th>\n",
       "      <td>9</td>\n",
       "      <td>autos</td>\n",
       "      <td>205</td>\n",
       "      <td>26</td>\n",
       "      <td>7</td>\n",
       "    </tr>\n",
       "    <tr>\n",
       "      <th>10</th>\n",
       "      <td>10</td>\n",
       "      <td>lymph</td>\n",
       "      <td>148</td>\n",
       "      <td>19</td>\n",
       "      <td>4</td>\n",
       "    </tr>\n",
       "  </tbody>\n",
       "</table>\n",
       "</div>"
      ],
      "text/plain": [
       "    did             name  NumberOfInstances  NumberOfFeatures  NumberOfClasses\n",
       "1     1           anneal                898                39                6\n",
       "2     2           anneal                898                39                6\n",
       "3     3         kr-vs-kp               3196                37                2\n",
       "4     4            labor                 57                17                2\n",
       "5     5       arrhythmia                452               280               16\n",
       "6     6           letter              20000                17               26\n",
       "7     7        audiology                226                70               24\n",
       "8     8  liver-disorders                345                 7               -1\n",
       "9     9            autos                205                26                7\n",
       "10   10            lymph                148                19                4"
      ]
     },
     "execution_count": 62,
     "metadata": {},
     "output_type": "execute_result"
    }
   ],
   "source": [
    "datalist = datasets.list_datasets()\n",
    "datalist = pd.DataFrame.from_dict(datalist, orient='index')\n",
    "print(\"First 10 of %s datasets...\" % len(datalist))\n",
    "datalist[:10][['did','name','NumberOfInstances','NumberOfFeatures','NumberOfClasses']]"
   ]
  },
  {
   "cell_type": "markdown",
   "metadata": {
    "slideshow": {
     "slide_type": "subslide"
    }
   },
   "source": [
    "There are many properties that we can query"
   ]
  },
  {
   "cell_type": "code",
   "execution_count": 61,
   "metadata": {
    "collapsed": false
   },
   "outputs": [
    {
     "data": {
      "text/plain": [
       "['NumberOfNumericFeatures',\n",
       " 'NumberOfInstancesWithMissingValues',\n",
       " 'NumberOfMissingValues',\n",
       " 'status',\n",
       " 'MinorityClassSize',\n",
       " 'name',\n",
       " 'did',\n",
       " 'NumberOfSymbolicFeatures',\n",
       " 'format',\n",
       " 'NumberOfInstances',\n",
       " 'MajorityClassSize',\n",
       " 'NumberOfClasses',\n",
       " 'NumberOfFeatures',\n",
       " 'MaxNominalAttDistinctValues']"
      ]
     },
     "execution_count": 61,
     "metadata": {},
     "output_type": "execute_result"
    }
   ],
   "source": [
    "list(datalist)"
   ]
  },
  {
   "cell_type": "markdown",
   "metadata": {
    "slideshow": {
     "slide_type": "subslide"
    }
   },
   "source": [
    "and we can filter or sort on all of them"
   ]
  },
  {
   "cell_type": "code",
   "execution_count": 76,
   "metadata": {
    "collapsed": false,
    "nbpresent": {
     "id": "7429ccf1-fe43-49e9-8239-54601a7f974d"
    }
   },
   "outputs": [
    {
     "data": {
      "text/html": [
       "<div>\n",
       "<table border=\"1\" class=\"dataframe\">\n",
       "  <thead>\n",
       "    <tr style=\"text-align: right;\">\n",
       "      <th></th>\n",
       "      <th>did</th>\n",
       "      <th>name</th>\n",
       "      <th>NumberOfInstances</th>\n",
       "      <th>NumberOfFeatures</th>\n",
       "    </tr>\n",
       "  </thead>\n",
       "  <tbody>\n",
       "    <tr>\n",
       "      <th>23515</th>\n",
       "      <td>23515</td>\n",
       "      <td>sulfur</td>\n",
       "      <td>10081</td>\n",
       "      <td>7</td>\n",
       "    </tr>\n",
       "    <tr>\n",
       "      <th>372</th>\n",
       "      <td>372</td>\n",
       "      <td>internet_usage</td>\n",
       "      <td>10108</td>\n",
       "      <td>72</td>\n",
       "    </tr>\n",
       "    <tr>\n",
       "      <th>981</th>\n",
       "      <td>981</td>\n",
       "      <td>kdd_internet_usage</td>\n",
       "      <td>10108</td>\n",
       "      <td>69</td>\n",
       "    </tr>\n",
       "    <tr>\n",
       "      <th>1536</th>\n",
       "      <td>1536</td>\n",
       "      <td>volcanoes-b6</td>\n",
       "      <td>10130</td>\n",
       "      <td>4</td>\n",
       "    </tr>\n",
       "    <tr>\n",
       "      <th>4562</th>\n",
       "      <td>4562</td>\n",
       "      <td>InternetUsage</td>\n",
       "      <td>10168</td>\n",
       "      <td>72</td>\n",
       "    </tr>\n",
       "    <tr>\n",
       "      <th>1531</th>\n",
       "      <td>1531</td>\n",
       "      <td>volcanoes-b1</td>\n",
       "      <td>10176</td>\n",
       "      <td>4</td>\n",
       "    </tr>\n",
       "    <tr>\n",
       "      <th>1534</th>\n",
       "      <td>1534</td>\n",
       "      <td>volcanoes-b4</td>\n",
       "      <td>10190</td>\n",
       "      <td>4</td>\n",
       "    </tr>\n",
       "    <tr>\n",
       "      <th>1459</th>\n",
       "      <td>1459</td>\n",
       "      <td>artificial-characters</td>\n",
       "      <td>10218</td>\n",
       "      <td>8</td>\n",
       "    </tr>\n",
       "    <tr>\n",
       "      <th>1478</th>\n",
       "      <td>1478</td>\n",
       "      <td>har</td>\n",
       "      <td>10299</td>\n",
       "      <td>562</td>\n",
       "    </tr>\n",
       "    <tr>\n",
       "      <th>1533</th>\n",
       "      <td>1533</td>\n",
       "      <td>volcanoes-b3</td>\n",
       "      <td>10386</td>\n",
       "      <td>4</td>\n",
       "    </tr>\n",
       "    <tr>\n",
       "      <th>1532</th>\n",
       "      <td>1532</td>\n",
       "      <td>volcanoes-b2</td>\n",
       "      <td>10668</td>\n",
       "      <td>4</td>\n",
       "    </tr>\n",
       "    <tr>\n",
       "      <th>1053</th>\n",
       "      <td>1053</td>\n",
       "      <td>jm1</td>\n",
       "      <td>10885</td>\n",
       "      <td>22</td>\n",
       "    </tr>\n",
       "    <tr>\n",
       "      <th>1414</th>\n",
       "      <td>1414</td>\n",
       "      <td>Kaggle_bike_sharing_demand_challange</td>\n",
       "      <td>10886</td>\n",
       "      <td>12</td>\n",
       "    </tr>\n",
       "    <tr>\n",
       "      <th>1044</th>\n",
       "      <td>1044</td>\n",
       "      <td>eye_movements</td>\n",
       "      <td>10936</td>\n",
       "      <td>28</td>\n",
       "    </tr>\n",
       "    <tr>\n",
       "      <th>1019</th>\n",
       "      <td>1019</td>\n",
       "      <td>pendigits</td>\n",
       "      <td>10992</td>\n",
       "      <td>17</td>\n",
       "    </tr>\n",
       "    <tr>\n",
       "      <th>32</th>\n",
       "      <td>32</td>\n",
       "      <td>pendigits</td>\n",
       "      <td>10992</td>\n",
       "      <td>17</td>\n",
       "    </tr>\n",
       "    <tr>\n",
       "      <th>4534</th>\n",
       "      <td>4534</td>\n",
       "      <td>PhishingWebsites</td>\n",
       "      <td>11055</td>\n",
       "      <td>31</td>\n",
       "    </tr>\n",
       "    <tr>\n",
       "      <th>399</th>\n",
       "      <td>399</td>\n",
       "      <td>ohscal.wc</td>\n",
       "      <td>11162</td>\n",
       "      <td>11466</td>\n",
       "    </tr>\n",
       "    <tr>\n",
       "      <th>310</th>\n",
       "      <td>310</td>\n",
       "      <td>mammography</td>\n",
       "      <td>11183</td>\n",
       "      <td>7</td>\n",
       "    </tr>\n",
       "    <tr>\n",
       "      <th>1568</th>\n",
       "      <td>1568</td>\n",
       "      <td>nursery</td>\n",
       "      <td>12958</td>\n",
       "      <td>9</td>\n",
       "    </tr>\n",
       "  </tbody>\n",
       "</table>\n",
       "</div>"
      ],
      "text/plain": [
       "         did                                  name  NumberOfInstances  \\\n",
       "23515  23515                                sulfur              10081   \n",
       "372      372                        internet_usage              10108   \n",
       "981      981                    kdd_internet_usage              10108   \n",
       "1536    1536                          volcanoes-b6              10130   \n",
       "4562    4562                         InternetUsage              10168   \n",
       "1531    1531                          volcanoes-b1              10176   \n",
       "1534    1534                          volcanoes-b4              10190   \n",
       "1459    1459                 artificial-characters              10218   \n",
       "1478    1478                                   har              10299   \n",
       "1533    1533                          volcanoes-b3              10386   \n",
       "1532    1532                          volcanoes-b2              10668   \n",
       "1053    1053                                   jm1              10885   \n",
       "1414    1414  Kaggle_bike_sharing_demand_challange              10886   \n",
       "1044    1044                         eye_movements              10936   \n",
       "1019    1019                             pendigits              10992   \n",
       "32        32                             pendigits              10992   \n",
       "4534    4534                      PhishingWebsites              11055   \n",
       "399      399                             ohscal.wc              11162   \n",
       "310      310                           mammography              11183   \n",
       "1568    1568                               nursery              12958   \n",
       "\n",
       "       NumberOfFeatures  \n",
       "23515                 7  \n",
       "372                  72  \n",
       "981                  69  \n",
       "1536                  4  \n",
       "4562                 72  \n",
       "1531                  4  \n",
       "1534                  4  \n",
       "1459                  8  \n",
       "1478                562  \n",
       "1533                  4  \n",
       "1532                  4  \n",
       "1053                 22  \n",
       "1414                 12  \n",
       "1044                 28  \n",
       "1019                 17  \n",
       "32                   17  \n",
       "4534                 31  \n",
       "399               11466  \n",
       "310                   7  \n",
       "1568                  9  "
      ]
     },
     "execution_count": 76,
     "metadata": {},
     "output_type": "execute_result"
    }
   ],
   "source": [
    "datalist[datalist.NumberOfInstances>10000].sort(['NumberOfInstances'])[:20][['did','name','NumberOfInstances','NumberOfFeatures']]"
   ]
  },
  {
   "cell_type": "markdown",
   "metadata": {
    "slideshow": {
     "slide_type": "subslide"
    }
   },
   "source": [
    "or find specific ones"
   ]
  },
  {
   "cell_type": "code",
   "execution_count": 75,
   "metadata": {
    "collapsed": false
   },
   "outputs": [
    {
     "data": {
      "text/html": [
       "<div>\n",
       "<table border=\"1\" class=\"dataframe\">\n",
       "  <thead>\n",
       "    <tr style=\"text-align: right;\">\n",
       "      <th></th>\n",
       "      <th>did</th>\n",
       "      <th>name</th>\n",
       "    </tr>\n",
       "  </thead>\n",
       "  <tbody>\n",
       "    <tr>\n",
       "      <th>1471</th>\n",
       "      <td>1471</td>\n",
       "      <td>eeg-eye-state</td>\n",
       "    </tr>\n",
       "  </tbody>\n",
       "</table>\n",
       "</div>"
      ],
      "text/plain": [
       "       did           name\n",
       "1471  1471  eeg-eye-state"
      ]
     },
     "execution_count": 75,
     "metadata": {},
     "output_type": "execute_result"
    },
    {
     "data": {
      "text/html": [
       "<div>\n",
       "<table border=\"1\" class=\"dataframe\">\n",
       "  <thead>\n",
       "    <tr style=\"text-align: right;\">\n",
       "      <th></th>\n",
       "      <th>did</th>\n",
       "      <th>name</th>\n",
       "      <th>NumberOfClasses</th>\n",
       "    </tr>\n",
       "  </thead>\n",
       "  <tbody>\n",
       "    <tr>\n",
       "      <th>61</th>\n",
       "      <td>61</td>\n",
       "      <td>iris</td>\n",
       "      <td>3</td>\n",
       "    </tr>\n",
       "    <tr>\n",
       "      <th>969</th>\n",
       "      <td>969</td>\n",
       "      <td>iris</td>\n",
       "      <td>2</td>\n",
       "    </tr>\n",
       "  </tbody>\n",
       "</table>\n",
       "</div>"
      ],
      "text/plain": [
       "     did  name  NumberOfClasses\n",
       "61    61  iris                3\n",
       "969  969  iris                2"
      ]
     },
     "execution_count": 75,
     "metadata": {},
     "output_type": "execute_result"
    }
   ],
   "source": [
    "datalist.query('name == \"iris\"')[['did','name','NumberOfClasses']]\n",
    "datalist[datalist['name'].str.contains(\"eeg\")][['did','name']]"
   ]
  },
  {
   "cell_type": "markdown",
   "metadata": {
    "nbpresent": {
     "id": "7b58c1f7-3484-4e26-b6b5-67ed6f99b9e9"
    },
    "slideshow": {
     "slide_type": "subslide"
    }
   },
   "source": [
    "Download a specific dataset. This is done based on the dataset ID (called 'did')."
   ]
  },
  {
   "cell_type": "code",
   "execution_count": 77,
   "metadata": {
    "collapsed": false,
    "nbpresent": {
     "id": "d377efff-2484-4ac3-8706-6434644949fd"
    }
   },
   "outputs": [
    {
     "name": "stdout",
     "output_type": "stream",
     "text": [
      "This is dataset 'eeg-eye-state', the target feature is 'Class'\n",
      "URL: http://www.openml.org/data/download/1587924/phplE7q6h\n",
      "**Author**: Oliver Roesler, it12148'@'lehre.dhbw-stuttgart.de  \n",
      "**Source**: [UCI](https://archive.ics.uci.edu/ml/datasets/EEG+Eye+State), Baden-Wuerttemberg, Cooperative State University (DHBW), Stuttgart, Germany  \n",
      "**Please cite**:   \n",
      "\n",
      "All data is from one continuous EEG measurement with the Emotiv EEG Neuroheadset. The duration of the measurement was 117 seconds. The eye state was detected via a camera during the EEG measurement and added later manually to the file after analysing the video fr\n"
     ]
    }
   ],
   "source": [
    "dataset = datasets.get_dataset(1471)\n",
    "\n",
    "print(\"This is dataset '%s', the target feature is '%s'\" % (dataset.name, dataset.default_target_attribute))\n",
    "print(\"URL: %s\" % dataset.url)\n",
    "print(dataset.description[:500])"
   ]
  },
  {
   "cell_type": "markdown",
   "metadata": {
    "nbpresent": {
     "id": "a80f9990-e073-48e6-9df3-4e27f5db74f7"
    },
    "slideshow": {
     "slide_type": "subslide"
    }
   },
   "source": [
    "Get the actual data"
   ]
  },
  {
   "cell_type": "code",
   "execution_count": 78,
   "metadata": {
    "collapsed": false,
    "nbpresent": {
     "id": "ab60383f-fc6d-4ca0-80f7-55ece02a0ac4"
    }
   },
   "outputs": [
    {
     "name": "stdout",
     "output_type": "stream",
     "text": [
      "        V1       V2       V3       V4  ...        V12      V13      V14  class\n",
      "0  4329.23  4009.23  4289.23  4148.21  ...    4280.51  4635.90  4393.85      0\n",
      "1  4324.62  4004.62  4293.85  4148.72  ...    4279.49  4632.82  4384.10      0\n",
      "2  4327.69  4006.67  4295.38  4156.41  ...    4282.05  4628.72  4389.23      0\n",
      "3  4328.72  4011.79  4296.41  4155.90  ...    4287.69  4632.31  4396.41      0\n",
      "4  4326.15  4011.79  4292.31  4151.28  ...    4288.21  4632.82  4398.46      0\n",
      "5  4321.03  4004.62  4284.10  4153.33  ...    4281.03  4628.21  4389.74      0\n",
      "6  4319.49  4001.03  4280.51  4151.79  ...    4269.74  4625.13  4378.46      0\n",
      "7  4325.64  4006.67  4278.46  4143.08  ...    4266.67  4622.05  4380.51      0\n",
      "8  4326.15  4010.77  4276.41  4139.49  ...    4273.85  4627.18  4389.74      0\n",
      "9  4326.15  4011.28  4276.92  4142.05  ...    4277.95  4637.44  4393.33      0\n",
      "\n",
      "[10 rows x 15 columns]\n"
     ]
    }
   ],
   "source": [
    "X, y, attribute_names = dataset.get_data(target=dataset.default_target_attribute, return_attribute_names=True)\n",
    "eeg = pd.DataFrame(X, columns=attribute_names)\n",
    "eeg['class'] = y\n",
    "print(eeg[:10])"
   ]
  },
  {
   "cell_type": "markdown",
   "metadata": {
    "nbpresent": {
     "id": "e5126f2b-6a3b-48a4-bd2d-9fa1bf76c8d4"
    },
    "slideshow": {
     "slide_type": "slide"
    }
   },
   "source": [
    "## Train models\n",
    "Train a scikit-learn model on the data manually"
   ]
  },
  {
   "cell_type": "code",
   "execution_count": 79,
   "metadata": {
    "collapsed": false,
    "nbpresent": {
     "id": "e99e1923-f713-480b-aeb7-317f1ca9f21c"
    }
   },
   "outputs": [
    {
     "data": {
      "text/plain": [
       "RandomForestClassifier(bootstrap=True, class_weight=None, criterion='gini',\n",
       "            max_depth=None, max_features='auto', max_leaf_nodes=None,\n",
       "            min_impurity_split=1e-07, min_samples_leaf=1,\n",
       "            min_samples_split=2, min_weight_fraction_leaf=0.0,\n",
       "            n_estimators=10, n_jobs=1, oob_score=False, random_state=None,\n",
       "            verbose=0, warm_start=False)"
      ]
     },
     "execution_count": 79,
     "metadata": {},
     "output_type": "execute_result"
    }
   ],
   "source": [
    "from sklearn import preprocessing, ensemble\n",
    "\n",
    "dataset = datasets.get_dataset(1471)\n",
    "X, y = dataset.get_data(target=dataset.default_target_attribute)\n",
    "clf = ensemble.RandomForestClassifier()\n",
    "clf.fit(X, y)"
   ]
  },
  {
   "cell_type": "markdown",
   "metadata": {
    "nbpresent": {
     "id": "eeb5fce8-4073-40c3-ab2b-a211bc77b1d4"
    },
    "slideshow": {
     "slide_type": "subslide"
    }
   },
   "source": [
    "You can also ask which features are categorical to do your own encoding"
   ]
  },
  {
   "cell_type": "code",
   "execution_count": 80,
   "metadata": {
    "collapsed": false,
    "nbpresent": {
     "id": "a32e47f7-6d88-4277-ac5d-fb3f62012860"
    }
   },
   "outputs": [
    {
     "data": {
      "text/plain": [
       "RandomForestClassifier(bootstrap=True, class_weight=None, criterion='gini',\n",
       "            max_depth=None, max_features='auto', max_leaf_nodes=None,\n",
       "            min_impurity_split=1e-07, min_samples_leaf=1,\n",
       "            min_samples_split=2, min_weight_fraction_leaf=0.0,\n",
       "            n_estimators=10, n_jobs=1, oob_score=False, random_state=None,\n",
       "            verbose=0, warm_start=False)"
      ]
     },
     "execution_count": 80,
     "metadata": {},
     "output_type": "execute_result"
    }
   ],
   "source": [
    "X, y, categorical = dataset.get_data(target=dataset.default_target_attribute,return_categorical_indicator=True)\n",
    "enc = preprocessing.OneHotEncoder(categorical_features=categorical)\n",
    "X = enc.fit_transform(X)\n",
    "clf.fit(X, y)"
   ]
  },
  {
   "cell_type": "markdown",
   "metadata": {
    "nbpresent": {
     "id": "ba1405dc-32b8-4518-9904-c54b0cae6757"
    },
    "slideshow": {
     "slide_type": "slide"
    }
   },
   "source": [
    "# Tasks"
   ]
  },
  {
   "cell_type": "markdown",
   "metadata": {
    "nbpresent": {
     "id": "44034957-dd02-4c90-8540-b58ef4d1dfb4"
    }
   },
   "source": [
    "To run benchmarks consistently (also across studies and tools), OpenML offers Tasks, which include specific train-test splits and other information to define a scientific task. Tasks are typically created via the website by the dataset provider."
   ]
  },
  {
   "cell_type": "markdown",
   "metadata": {
    "nbpresent": {
     "id": "80b6e0fc-16cb-40a4-bc1c-c6e3a367db71"
    },
    "slideshow": {
     "slide_type": "subslide"
    }
   },
   "source": [
    "## List ALL the tasks"
   ]
  },
  {
   "cell_type": "code",
   "execution_count": 82,
   "metadata": {
    "collapsed": false,
    "nbpresent": {
     "id": "6458d620-c77c-4d30-ab93-49981ab7156a"
    }
   },
   "outputs": [
    {
     "name": "stdout",
     "output_type": "stream",
     "text": [
      "First 5 of 10 tasks:\n",
      "  tid did        name                  task_type     estimation_procedure\n",
      "1   1   1      anneal  Supervised Classification  10-fold Crossvalidation\n",
      "2   2   2      anneal  Supervised Classification  10-fold Crossvalidation\n",
      "3   3   3    kr-vs-kp  Supervised Classification  10-fold Crossvalidation\n",
      "4   4   4       labor  Supervised Classification  10-fold Crossvalidation\n",
      "5   5   5  arrhythmia  Supervised Classification  10-fold Crossvalidation\n"
     ]
    }
   ],
   "source": [
    "task_list = tasks.list_tasks(size=10)\n",
    "\n",
    "mytasks = pd.DataFrame(task_list).transpose()\n",
    "print(\"First 5 of %s tasks:\" % len(mytasks))\n",
    "#print(mytasks.columns)\n",
    "print(mytasks[:5][['tid','did','name','task_type','estimation_procedure']])"
   ]
  },
  {
   "cell_type": "markdown",
   "metadata": {
    "nbpresent": {
     "id": "fdd2d347-6239-4718-ae3a-9385f01fa416"
    },
    "slideshow": {
     "slide_type": "subslide"
    }
   },
   "source": [
    "## Download tasks"
   ]
  },
  {
   "cell_type": "code",
   "execution_count": 83,
   "metadata": {
    "collapsed": false,
    "nbpresent": {
     "id": "8d954b88-96dc-48d5-ad06-524d040a0324"
    }
   },
   "outputs": [
    {
     "name": "stdout",
     "output_type": "stream",
     "text": [
      "{'class_labels': ['normal', 'metastases', 'malign_lymph', 'fibrosis'],\n",
      " 'cost_matrix': None,\n",
      " 'dataset_id': 10,\n",
      " 'estimation_parameters': {'number_folds': '10',\n",
      "                           'number_repeats': '1',\n",
      "                           'percentage': '',\n",
      "                           'stratified_sampling': 'true'},\n",
      " 'estimation_procedure': {'data_splits_url': 'http://www.openml.org/api_splits/get/10/Task_10_splits.arff',\n",
      "                          'parameters': {'number_folds': '10',\n",
      "                                         'number_repeats': '1',\n",
      "                                         'percentage': '',\n",
      "                                         'stratified_sampling': 'true'},\n",
      "                          'type': 'crossvalidation'},\n",
      " 'evaluation_measure': 'predictive_accuracy',\n",
      " 'target_name': 'class',\n",
      " 'task_id': 10,\n",
      " 'task_type': 'Supervised Classification'}\n"
     ]
    }
   ],
   "source": [
    "task = tasks.get_task(10)\n",
    "pprint(vars(task))"
   ]
  },
  {
   "cell_type": "markdown",
   "metadata": {
    "nbpresent": {
     "id": "a95d5c04-453b-4840-9cdf-1c248b20d35e"
    },
    "slideshow": {
     "slide_type": "slide"
    }
   },
   "source": [
    "# Runs\n",
    "We can run (many) scikit-learn algorithms on (many) OpenML tasks."
   ]
  },
  {
   "cell_type": "code",
   "execution_count": 89,
   "metadata": {
    "collapsed": false,
    "nbpresent": {
     "id": "d1f4d4d9-8d20-4bb5-b852-f5eeff6ab8ed"
    },
    "slideshow": {
     "slide_type": "subslide"
    }
   },
   "outputs": [
    {
     "data": {
      "text/plain": [
       "RandomForestClassifier(bootstrap=True, class_weight=None, criterion='gini',\n",
       "            max_depth=None, max_features='auto', max_leaf_nodes=None,\n",
       "            min_impurity_split=1e-07, min_samples_leaf=1,\n",
       "            min_samples_split=2, min_weight_fraction_leaf=0.0,\n",
       "            n_estimators=10, n_jobs=1, oob_score=False, random_state=None,\n",
       "            verbose=0, warm_start=False)"
      ]
     },
     "execution_count": 89,
     "metadata": {},
     "output_type": "execute_result"
    }
   ],
   "source": [
    "task = tasks.get_task(10)\n",
    "clf = ensemble.RandomForestClassifier()\n",
    "run = runs.run_task(task, clf)\n",
    "run.model"
   ]
  },
  {
   "cell_type": "markdown",
   "metadata": {
    "nbpresent": {
     "id": "a686ebf7-8eda-47af-aa86-e46d273c3712"
    },
    "slideshow": {
     "slide_type": "subslide"
    }
   },
   "source": [
    "Share the run on the OpenML server"
   ]
  },
  {
   "cell_type": "code",
   "execution_count": 96,
   "metadata": {
    "collapsed": false,
    "nbpresent": {
     "id": "367d2ee5-ca11-4372-a600-c9309f4a720e"
    }
   },
   "outputs": [
    {
     "name": "stdout",
     "output_type": "stream",
     "text": [
      "Check your run on http://www.openml.org/r/1846400\n"
     ]
    }
   ],
   "source": [
    "myrun = run.publish()\n",
    "print(\"Check your run on http://www.openml.org/r/\" + str(myrun.run_id))"
   ]
  },
  {
   "cell_type": "markdown",
   "metadata": {
    "nbpresent": {
     "id": "3043c7da-c8b4-4594-8abf-1f27629427a2"
    },
    "slideshow": {
     "slide_type": "slide"
    }
   },
   "source": [
    "## All together\n",
    "Train any model on any OpenML dataset and upload to OpenML in a few lines of code"
   ]
  },
  {
   "cell_type": "code",
   "execution_count": 97,
   "metadata": {
    "collapsed": false,
    "nbpresent": {
     "id": "d33fc2b4-5798-4ff1-bcb3-afc474f3e569"
    },
    "scrolled": true,
    "slideshow": {
     "slide_type": "subslide"
    }
   },
   "outputs": [
    {
     "name": "stdout",
     "output_type": "stream",
     "text": [
      "Check your run on http://www.openml.org/r/1846401\n"
     ]
    }
   ],
   "source": [
    "task = tasks.get_task(14951)\n",
    "clf = ensemble.RandomForestClassifier()\n",
    "run = runs.run_task(task, clf)\n",
    "myrun = run.publish()\n",
    "print(\"Check your run on http://www.openml.org/r/\" + str(myrun.run_id))"
   ]
  },
  {
   "cell_type": "code",
   "execution_count": null,
   "metadata": {
    "collapsed": true
   },
   "outputs": [],
   "source": []
  }
 ],
 "metadata": {
  "anaconda-cloud": {},
  "celltoolbar": "Slideshow",
  "colabVersion": "0.1",
  "kernelspec": {
   "display_name": "Python [default]",
   "language": "python",
   "name": "python3"
  },
  "language_info": {
   "codemirror_mode": {
    "name": "ipython",
    "version": 3
   },
   "file_extension": ".py",
   "mimetype": "text/x-python",
   "name": "python",
   "nbconvert_exporter": "python",
   "pygments_lexer": "ipython3",
   "version": "3.5.2"
  },
  "livereveal": {
   "height": 768,
   "overflow": "visible",
   "theme": "solarized",
   "transition": "fade",
   "width": "95%"
  }
 },
 "nbformat": 4,
 "nbformat_minor": 0
}
