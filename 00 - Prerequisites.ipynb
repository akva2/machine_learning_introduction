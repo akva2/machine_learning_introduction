{
 "cells": [
  {
   "cell_type": "markdown",
   "metadata": {},
   "source": [
    "# Prerequisites\n",
    "\n",
    "## Python\n",
    "You first need to set up a Python environment (if you do not have done so already). The easiest way to do this is by installing [Anaconda](https://www.continuum.io/downloads). We will be using Python 3, so be sure to install the right version.\n",
    "\n",
    "Note: if you are not using Anaconda, and you already have a custom Python environment set up, possibly using a different Python version, it may be wise to [set up a virtual environment](http://docs.python-guide.org/en/latest/dev/virtualenvs/) for this course so that it does not affect your existing environment. \n",
    "\n",
    "## Required packages\n",
    "Next, you'll need to install several packages that we'll be using extensively. You'll need to run these commands on the command line.\n",
    "\n",
    "### Installing packages with conda\n",
    "If you are using Anaconda, you can use the ``conda`` package manager to install all packages:\n",
    "\n",
    "    conda install numpy scipy scikit-learn matplotlib pandas pillow graphviz\n",
    "\n",
    "and then *also*\n",
    "\n",
    "    pip install graphviz\n",
    "\n",
    "\n",
    "### Installing packages with pip\n",
    "With most other setups, you can use pip to install all packages. Pip is the Python Package index it is included in most Python installations.\n",
    "\n",
    "    pip install numpy scipy scikit-learn matplotlib pandas pillow graphviz\n",
    "\n",
    "Note: we'll be using scikit-learn 0.18, which is currently the latest version.\n",
    "\n",
    "You also need to install the graphiz C-library:  \n",
    "* OS X: use homebrew: ``brew install graphviz``\n",
    "* Ubuntu/debian: use apt-get: ``apt-get install graphviz``.\n",
    "* Installing graphviz on Windows can be tricky and using conda / anaconda is recommended."
   ]
  },
  {
   "cell_type": "markdown",
   "metadata": {},
   "source": [
    "### Installing OpenML\n",
    "The OpenML package is not yet available through pip. We will need to install it from github:\n",
    "This requires git. If you don't have git, it's [easy to install](https://git-scm.com/book/en/v1/Getting-Started-Installing-Git).\n",
    "\n",
    "    pip install git+https://github.com/openml/openml-python.git@develop\n",
    "    \n",
    "You may have to install the latest developer version of liac-arff manually for this to work:\n",
    "\n",
    "    pip install git+https://github.com/renatopp/liac-arff@master\n",
    "    \n",
    "You'll also need an OpenML account to download/upload data. If you don't have one, [go ahead and create one](www.openml.org)."
   ]
  },
  {
   "cell_type": "markdown",
   "metadata": {},
   "source": [
    "### Installing Jupyter notebooks\n",
    "As our coding environment, we'll be using Jupyter notebooks. They interleave documentation (in markdown) with executable Python code, and they run in your browser. That means that you can easily edit and re-run all the code in this course using only your browser, and you can make your own notes in your copy of the notebook as well.\n",
    "\n",
    "If you use Anaconda, Jupyter is already installed. If you use pip, you can install it with\n",
    "\n",
    "    pip3 install jupyter\n",
    "    \n",
    "To test if it works, run\n",
    "\n",
    "    jupyter notebook\n",
    "    \n",
    "A browser window should open showing the files in your current directory. You can shut down the notebook by typing CTRL-C in your terminal.\n",
    "\n",
    "If you are new to notebooks, [take this quick tutorial](https://try.jupyter.org/). Optionally, for a more in-depth coverage, [try the DataCamp tutorial](https://www.datacamp.com/community/tutorials/tutorial-jupyter-notebook#gs.wlHChdo)."
   ]
  },
  {
   "cell_type": "markdown",
   "metadata": {},
   "source": [
    "## Course materials\n",
    "You can download all the notebooks for this course [as a .zip file](https://github.com/openml/machine_learning_introduction). Click 'Clone or download' > 'Download ZIP'.\n",
    "\n",
    "However, a better way is to use git to clone the resources. That makes sure that you can easily download future updates. \n",
    "\n",
    "    git clone https://github.com/openml/machine_learning_introduction.git\n",
    "    \n",
    "To download updates, run\n",
    "\n",
    "    git pull\n",
    "\n",
    "\n",
    "## Testing\n",
    "To test if everything works, run Jupyter (ideally from the directory where you downloaded the course):\n",
    "\n",
    "    jupyter notebook\n",
    "    \n",
    "A browser window should open with all course materials. Open one of the chapters and check if you can execute all code by clicking Cell > Run all.\n",
    "\n",
    "Alternatively, if you prefer to create your own scripts, you can [browse the notebooks on GitHub](https://github.com/openml/machine_learning_introduction) and copy code to your scripts, or you can run the notebooks and extract all the code using File > Download as > Python."
   ]
  },
  {
   "cell_type": "markdown",
   "metadata": {},
   "source": [
    "## Alternative: Everware\n",
    "In case you run into any issues, you can also run all materials in the cloud. This is a special (private beta) service provided by [Everware](https://github.com/everware) with computing resources provided by the [Yandex School of Data Analytics](https://yandexdataschool.com/).\n",
    "\n",
    "You'll need a GitHub account to authenticate. If you dont, [you can make one now](github.com). To spin up the service, just click here (it may take a few minutes to boot):  \n",
    "[![run at everware](https://img.shields.io/badge/run%20me-@everware-blue.svg?style=flat)](https://everware.rep.school.yandex.net/hub/oauth_login?repourl=https://github.com/openml/machine_learning_introduction)"
   ]
  },
  {
   "cell_type": "code",
   "execution_count": null,
   "metadata": {
    "collapsed": true
   },
   "outputs": [],
   "source": []
  }
 ],
 "metadata": {
  "kernelspec": {
   "display_name": "Python 3",
   "language": "python",
   "name": "python3"
  },
  "language_info": {
   "codemirror_mode": {
    "name": "ipython",
    "version": 3
   },
   "file_extension": ".py",
   "mimetype": "text/x-python",
   "name": "python",
   "nbconvert_exporter": "python",
   "pygments_lexer": "ipython3",
   "version": "3.5.2"
  }
 },
 "nbformat": 4,
 "nbformat_minor": 0
}
